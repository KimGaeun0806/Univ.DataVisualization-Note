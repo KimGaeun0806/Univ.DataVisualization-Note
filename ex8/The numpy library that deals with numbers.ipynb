{
 "cells": [
  {
   "cell_type": "code",
   "execution_count": 2,
   "id": "6af97873",
   "metadata": {},
   "outputs": [
    {
     "data": {
      "image/png": "[encoded data removed]",
      "text/plain": [
       "<Figure size 432x288 with 1 Axes>"
      ]
     },
     "metadata": {
      "needs_background": "light"
     },
     "output_type": "display_data"
    }
   ],
   "source": [
    "# 리스트를 활용한 코드\n",
    "import matplotlib.pyplot as plt\n",
    "\n",
    "t = []\n",
    "p2 = []\n",
    "p3 = []\n",
    "\n",
    "for i in range(0, 50, 2): # 0부터 49까지 2씩 증가. 0, 2, 4 ... 48\n",
    "    t.append(i/10)\n",
    "    p2.append((i/10)**2)\n",
    "    p3.append((i/10)**3)\n",
    "plt.plot(t, t, 'r--', t, p2, 'bs', t, p3, 'g^') # 'x축', 'y축', '색+선 스타일' 형식\n",
    "plt.show()"
   ]
  },
  {
   "cell_type": "code",
   "execution_count": 3,
   "id": "ee6b2d96",
   "metadata": {},
   "outputs": [
    {
     "data": {
      "image/png": "[encoded data removed]",
      "text/plain": [
       "<Figure size 432x288 with 1 Axes>"
      ]
     },
     "metadata": {
      "needs_background": "light"
     },
     "output_type": "display_data"
    }
   ],
   "source": [
    "# numpy를 활용한 코드\n",
    "import matplotlib.pyplot as plt\n",
    "import numpy as np\n",
    "\n",
    "t = np.arange(0., 5., 0.2) # 0부터 5까지 0.2씩 증가\n",
    "plt.plot(t, t, 'r--', t, t**2, 'bs', t, t**3, 'g^')\n",
    "plt.show()"
   ]
  },
  {
   "cell_type": "code",
   "execution_count": 5,
   "id": "99371b15",
   "metadata": {},
   "outputs": [
    {
     "name": "stdout",
     "output_type": "stream",
     "text": [
      "1.4142135623730951\n",
      "1.4142135623730951\n"
     ]
    }
   ],
   "source": [
    "# 제곱근 출력하기\n",
    "import numpy\n",
    "print(numpy.sqrt(2)) # 루트2의 값 출력 # sqrt 메소드 이용하여 루트값 구하기 \n",
    "\n",
    "import numpy as np\n",
    "print(np.sqrt(2))"
   ]
  },
  {
   "cell_type": "code",
   "execution_count": 6,
   "id": "f427bf71",
   "metadata": {},
   "outputs": [
    {
     "name": "stdout",
     "output_type": "stream",
     "text": [
      "3.141592653589793\n",
      "0.0\n",
      "-1.0\n"
     ]
    }
   ],
   "source": [
    "# 파이와 삼각함수 활용하기\n",
    "import numpy as np\n",
    "print(np.pi) # 파이값 구하기\n",
    "print(np.sin(0)) # 사인 값 구하기\n",
    "print(np.cos(np.pi)) # 코사인 값 구하기 "
   ]
  },
  {
   "cell_type": "code",
   "execution_count": 7,
   "id": "6ebb4121",
   "metadata": {},
   "outputs": [
    {
     "name": "stdout",
     "output_type": "stream",
     "text": [
      "[0.32556343 0.68088912 0.79157619 0.96614665 0.99505891]\n",
      "<class 'numpy.ndarray'>\n"
     ]
    }
   ],
   "source": [
    "# random 서브 라이브러리의 rand 함수 / numpy의 ndarray 타입\n",
    "import numpy as np\n",
    "a = np.random.rand(5) # numpy 모듈 아래 random 모듈 아래 rand 메소드\n",
    "print(a) # 5개의 데이터를 랜덤하게 출력. 0부터 1 사이 값 중 랜덤하게 # 0부터 10을 하고 싶다면 x 10, 0부터 100을 하고 싶다면 x 100\n",
    "print(type(a))"
   ]
  },
  {
   "cell_type": "code",
   "execution_count": 8,
   "id": "5383a61a",
   "metadata": {},
   "outputs": [
    {
     "name": "stdout",
     "output_type": "stream",
     "text": [
      "[5 2 4 2 5 0 5 5 1 2]\n"
     ]
    }
   ],
   "source": [
    "# random 서브 라이브러리의 choice 함수\n",
    "import numpy as np\n",
    "print(np.random.choice(6, 10)) # 0부터 6 이전까지의 값을 랜덤하게 10개 뽑아옴 "
   ]
  },
  {
   "cell_type": "code",
   "execution_count": 9,
   "id": "2f62a90a",
   "metadata": {},
   "outputs": [
    {
     "name": "stdout",
     "output_type": "stream",
     "text": [
      "[2 7 6 3 9 8]\n"
     ]
    }
   ],
   "source": [
    "import numpy as np\n",
    "print(np.random.choice(10, 6, replace = False)) # replace=False -> 동일한 값이 나오지 않음 # 0부터 9까지의 값을 6개 뽑기 # 앞 값이 뒷 값보다 커야 함 "
   ]
  },
  {
   "cell_type": "code",
   "execution_count": 10,
   "id": "8832a5ab",
   "metadata": {},
   "outputs": [
    {
     "name": "stdout",
     "output_type": "stream",
     "text": [
      "[2 1 4 3 3 3 1 1 2 2]\n"
     ]
    }
   ],
   "source": [
    "# 확률 설정\n",
    "import numpy as np\n",
    "print(np.random.choice(6, 10, p = [0.1, 0.2, 0.3, 0.2, 0.1, 0.1])) # 확률을 주는 것. 0, 1, 2, 3, 4 , 5 ... 순. 예를 들면 2가 나올 확률은 0.3 # 0부터 5까지 10개"
   ]
  },
  {
   "cell_type": "code",
   "execution_count": 14,
   "id": "c47a207f",
   "metadata": {},
   "outputs": [
    {
     "data": {
      "image/png": "[encoded data removed]",
      "text/plain": [
       "<Figure size 432x288 with 1 Axes>"
      ]
     },
     "metadata": {
      "needs_background": "light"
     },
     "output_type": "display_data"
    }
   ],
   "source": [
    "# numpy를 사용한 히스토그램 그리기 \n",
    "import matplotlib.pyplot as plt\n",
    "import random\n",
    "dice = []\n",
    "for i in range(10):\n",
    "    dice.append(random.randint(1, 6))\n",
    "    \n",
    "plt.hist(dice, bins = 6)\n",
    "plt.show()"
   ]
  },
  {
   "cell_type": "code",
   "execution_count": 16,
   "id": "678753e4",
   "metadata": {},
   "outputs": [
    {
     "data": {
      "image/png": "[encoded data removed]",
      "text/plain": [
       "<Figure size 432x288 with 1 Axes>"
      ]
     },
     "metadata": {
      "needs_background": "light"
     },
     "output_type": "display_data"
    }
   ],
   "source": [
    "import matplotlib.pyplot as plt\n",
    "import numpy as np\n",
    "dice = np.random.choice(6, 10)\n",
    "\n",
    "plt.hist(dice, bins = 6)\n",
    "plt.show()"
   ]
  },
  {
   "cell_type": "code",
   "execution_count": 15,
   "id": "7841802f",
   "metadata": {},
   "outputs": [
    {
     "data": {
      "image/png": "[encoded data removed]",
      "text/plain": [
       "<Figure size 432x288 with 1 Axes>"
      ]
     },
     "metadata": {
      "needs_background": "light"
     },
     "output_type": "display_data"
    }
   ],
   "source": [
    "# 랜덤 확률이 설정된 히스토그램 그리기\n",
    "import matplotlib.pyplot as plt\n",
    "import numpy as np\n",
    "dice = np.random.choice(6, 1000000, p = [0.1, 0.2, 0.3, 0.2, 0.1, 0.1])\n",
    "plt.hist(dice, bins = 6) # 0, 1, 2, 3, 4, 5 중 랜덤으로 추출한 숫자를 히스토그램 표현\n",
    "plt.show()"
   ]
  },
  {
   "cell_type": "code",
   "execution_count": 18,
   "id": "7d93fc37",
   "metadata": {},
   "outputs": [
    {
     "name": "stdout",
     "output_type": "stream",
     "text": [
      "[1 2 3 4]\n",
      "<class 'numpy.ndarray'>\n"
     ]
    }
   ],
   "source": [
    "# 리스트로 ndarray(N-Dimensional Array) 만들기\n",
    "import numpy as np\n",
    "a = np.array([1, 2, 3, 4]) # a는 배열 \n",
    "print(a)\n",
    "print(type(a))"
   ]
  },
  {
   "cell_type": "code",
   "execution_count": 19,
   "id": "9c83ee51",
   "metadata": {},
   "outputs": [
    {
     "name": "stdout",
     "output_type": "stream",
     "text": [
      "2 4\n",
      "[2 3 4]\n"
     ]
    }
   ],
   "source": [
    "# Numpy array의 인덱싱, 슬라이싱\n",
    "import numpy as np\n",
    "a = np.array([1, 2, 3, 4])\n",
    "print(a[1], a[-1]) # a의 1번 인덱스 값, -1번 인덱스 값 출력\n",
    "print(a[1:]) # a의 1번 인덱스를 기준으로 슬라이싱 결과 출력. 1번부터 끝까지 "
   ]
  },
  {
   "cell_type": "code",
   "execution_count": 20,
   "id": "12c7310f",
   "metadata": {},
   "outputs": [
    {
     "name": "stdout",
     "output_type": "stream",
     "text": [
      "['1' '2' '3' '4']\n"
     ]
    }
   ],
   "source": [
    "import numpy as np\n",
    "a = np.array([1, 2, '3', 4]) # 하나가 문자면 나머지도 다 문자가 됨 # 배열은 리스트와 다르게 하나의 타입만 들어갈 수 있음. 정수형, 문자열이 혼재될 수 x\n",
    "print(a)"
   ]
  },
  {
   "cell_type": "code",
   "execution_count": 23,
   "id": "10b72dd5",
   "metadata": {},
   "outputs": [
    {
     "name": "stdout",
     "output_type": "stream",
     "text": [
      "[0. 0. 0. 0. 0. 0. 0. 0. 0. 0.]\n",
      "[1. 1. 1. 1. 1. 1. 1. 1. 1. 1.]\n",
      "[[1. 0. 0.]\n",
      " [0. 1. 0.]\n",
      " [0. 0. 1.]]\n"
     ]
    }
   ],
   "source": [
    "# zeros(), ones(), eye() 함수로 numpy array 만들기\n",
    "import numpy as np\n",
    "a = np.zeros(10) # zeros() -> 모두 0이 됨 # 0으로 이뤄진 크기가 10인 배열 생성\n",
    "print(a)\n",
    "\n",
    "import numpy as np\n",
    "a = np.ones(10) # ones() -> 모두 1이 됨 # 1로 이뤄진 크기가 10인 배열 생성\n",
    "print(a)\n",
    "\n",
    "import numpy as np\n",
    "a = np.eye(3) # 3 x 3의 단위 배열 생성\n",
    "print(a)"
   ]
  },
  {
   "cell_type": "code",
   "execution_count": 24,
   "id": "795775b3",
   "metadata": {},
   "outputs": [
    {
     "name": "stdout",
     "output_type": "stream",
     "text": [
      "[0 1 2]\n",
      "[3 4 5 6]\n",
      "[3 5]\n"
     ]
    }
   ],
   "source": [
    "# 연속된 숫자의 numpy array 만들기\n",
    "import numpy as np\n",
    "print(np.arange(3)) # arange() 함수에 1개 값 입력 # 0부터 시작해서 3 전까지 1씩 증가\n",
    "print(np.arange(3, 7)) # arange() 함수에 2개 값 입력 # 3부터 시작해서 7 전까지 1씩 증가\n",
    "print(np.arange(3, 7, 2)) # arange() 함수에 3개 값 입력 # 3부터 시작해서 7 전까지 2씩 증가"
   ]
  },
  {
   "cell_type": "code",
   "execution_count": 27,
   "id": "423ff36a",
   "metadata": {},
   "outputs": [
    {
     "name": "stdout",
     "output_type": "stream",
     "text": [
      "[1.  1.1 1.2 1.3 1.4 1.5 1.6 1.7 1.8 1.9]\n",
      "[1.  1.1 1.2 1.3 1.4 1.5 1.6 1.7 1.8 1.9 2. ]\n"
     ]
    }
   ],
   "source": [
    "# 연속된 실수의 numpy array 만들기\n",
    "import numpy as np\n",
    "a = np.arange(1, 2, 0.1) # 1 이상 2 미만 구간에서 0.1 간격으로 실수 생성\n",
    "b = np.linspace(1, 2, 11) # 1부터 2까지 11개 구간으로 나눈 실수 생성 # 2도 포함되는 것 유의 # linspace -> 해당되는 공간을 나눔\n",
    "print(a)\n",
    "print(b)"
   ]
  },
  {
   "cell_type": "code",
   "execution_count": 28,
   "id": "9f8d7d70",
   "metadata": {},
   "outputs": [
    {
     "name": "stdout",
     "output_type": "stream",
     "text": [
      "[-3.14159265 -2.82743339 -2.51327412 -2.19911486 -1.88495559 -1.57079633\n",
      " -1.25663706 -0.9424778  -0.62831853 -0.31415927  0.          0.31415927\n",
      "  0.62831853  0.9424778   1.25663706  1.57079633  1.88495559  2.19911486\n",
      "  2.51327412  2.82743339]\n",
      "[-3.14159265 -2.81089869 -2.48020473 -2.14951076 -1.8188168  -1.48812284\n",
      " -1.15742887 -0.82673491 -0.49604095 -0.16534698  0.16534698  0.49604095\n",
      "  0.82673491  1.15742887  1.48812284  1.8188168   2.14951076  2.48020473\n",
      "  2.81089869  3.14159265]\n"
     ]
    }
   ],
   "source": [
    "import numpy as np\n",
    "a = np.arange(-np.pi, np.pi, np.pi/10)\n",
    "b = np.linspace(-np.pi, np.pi, 20)\n",
    "print(a)\n",
    "print(b)"
   ]
  },
  {
   "cell_type": "code",
   "execution_count": 29,
   "id": "0c9ccfb0",
   "metadata": {},
   "outputs": [
    {
     "name": "stdout",
     "output_type": "stream",
     "text": [
      "[5. 5. 5. 5. 5. 5. 5. 5. 5. 5.]\n"
     ]
    }
   ],
   "source": [
    "# numpy array에 값을 한꺼번에 더하기\n",
    "import numpy as np\n",
    "a = np.zeros(10) + 5 # 모두 5가 됨\n",
    "print(a)"
   ]
  },
  {
   "cell_type": "code",
   "execution_count": 30,
   "id": "814c7661",
   "metadata": {},
   "outputs": [
    {
     "name": "stdout",
     "output_type": "stream",
     "text": [
      "[1.         1.04880885 1.09544512 1.14017543 1.18321596 1.22474487\n",
      " 1.26491106 1.30384048 1.34164079 1.37840488 1.41421356]\n"
     ]
    }
   ],
   "source": [
    "# numpy array에 함수 적용하기\n",
    "import numpy as np\n",
    "a = np.linspace(1, 2, 11)\n",
    "print(np.sqrt(a)) # a값의 제곱근을 출력함 \n",
    "# 1부터 2까지 11개로 나눈 후 루트를 씌운 것 "
   ]
  },
  {
   "cell_type": "code",
   "execution_count": 31,
   "id": "ef642463",
   "metadata": {},
   "outputs": [
    {
     "data": {
      "image/png": "[encoded data removed]",
      "text/plain": [
       "<Figure size 432x288 with 1 Axes>"
      ]
     },
     "metadata": {
      "needs_background": "light"
     },
     "output_type": "display_data"
    }
   ],
   "source": [
    "# numpy를 활용한 그래프 그리기\n",
    "import matplotlib.pyplot as plt\n",
    "import numpy as np\n",
    "a = np.arange(-np.pi, np.pi, np.pi/100) # -np.pi부터 np.pi 직전까지 np.pi/100만큼씩 증가\n",
    "plt.plot(a, np.sin(a)) # x축 -> a, y축 -> np.sin(a)\n",
    "plt.show()"
   ]
  },
  {
   "cell_type": "code",
   "execution_count": 33,
   "id": "b3320735",
   "metadata": {},
   "outputs": [
    {
     "data": {
      "image/png": "[encoded data removed]",
      "text/plain": [
       "<Figure size 432x288 with 1 Axes>"
      ]
     },
     "metadata": {
      "needs_background": "light"
     },
     "output_type": "display_data"
    }
   ],
   "source": [
    "# numpy를 활용한 다양한 그래프 그리기\n",
    "import matplotlib.pyplot as plt\n",
    "import numpy as np\n",
    "a = np.arange(-np.pi, np.pi, np.pi/100)\n",
    "plt.plot(a, np.sin(a))\n",
    "plt.plot(a, np.cos(a))\n",
    "plt.plot(a+np.pi/2, np.sin(a))\n",
    "plt.show()"
   ]
  },
  {
   "cell_type": "code",
   "execution_count": 38,
   "id": "8b61b3b2",
   "metadata": {},
   "outputs": [
    {
     "name": "stdout",
     "output_type": "stream",
     "text": [
      "[-5 -4 -3 -2 -1  0  1  2  3  4]\n"
     ]
    }
   ],
   "source": [
    "# Mask 적용하기 (기본 데이터 만들기)\n",
    "import numpy as np\n",
    "a = np.arange(-5, 5)\n",
    "print(a)"
   ]
  },
  {
   "cell_type": "code",
   "execution_count": 39,
   "id": "a3d463f8",
   "metadata": {},
   "outputs": [
    {
     "name": "stdout",
     "output_type": "stream",
     "text": [
      "[ True  True  True  True  True False False False False False]\n"
     ]
    }
   ],
   "source": [
    "# Mask 적용하기 (마스크 만들기)\n",
    "import numpy as np\n",
    "a = np.arange(-5, 5)\n",
    "print(a < 0) # 조건에 맞게 제거하기 "
   ]
  },
  {
   "cell_type": "code",
   "execution_count": 40,
   "id": "213d1cb1",
   "metadata": {},
   "outputs": [
    {
     "name": "stdout",
     "output_type": "stream",
     "text": [
      "[-5 -4 -3 -2 -1]\n"
     ]
    }
   ],
   "source": [
    "# Mask 적용하기 (마스크 적용하기)\n",
    "import numpy as np\n",
    "a = np.arange(-5, 5)\n",
    "print(a[a<0]) # a가 0보다 작은 것만 출력"
   ]
  },
  {
   "cell_type": "code",
   "execution_count": 41,
   "id": "d76a84cc",
   "metadata": {},
   "outputs": [
    {
     "name": "stdout",
     "output_type": "stream",
     "text": [
      "[-5 -4  4]\n"
     ]
    }
   ],
   "source": [
    "import numpy as np\n",
    "a = np.arange(-5, 5)\n",
    "mask1 = abs(a) > 3 # a의 절댓값이 3보다 크다면\n",
    "print(a[mask1]) # 절댓값 a가 3보다 큰 a"
   ]
  },
  {
   "cell_type": "code",
   "execution_count": null,
   "id": "0de5398f",
   "metadata": {},
   "outputs": [],
   "source": [
    "# Mask 적용하기 (마스크 연결해서 사용하기)\n",
    "import numpy as np\n",
    "a = np.arange(-5, 5)\n",
    "mask1 = abs(a) > 3\n",
    "mask2 = abs(a) % 2 == 0 # 절댓값 a를 2로 나눈 나머지가 0일 때 \n",
    "print(a[mask1 + mask2]) # or. 둘 중 하나의 조건이라도 참일 경우\n",
    "print(a[mask1 * mask2]) # and. 두 가지 조건이 모두 참일 경우 "
   ]
  }
 ],
 "metadata": {
  "kernelspec": {
   "display_name": "Python 3",
   "language": "python",
   "name": "python3"
  },
  "language_info": {
   "codemirror_mode": {
    "name": "ipython",
    "version": 3
   },
   "file_extension": ".py",
   "mimetype": "text/x-python",
   "name": "python",
   "nbconvert_exporter": "python",
   "pygments_lexer": "ipython3",
   "version": "3.8.8"
  }
 },
 "nbformat": 4,
 "nbformat_minor": 5
}
